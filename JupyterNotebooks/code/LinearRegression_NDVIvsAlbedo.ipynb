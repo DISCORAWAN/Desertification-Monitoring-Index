{
 "cells": [
  {
   "cell_type": "code",
   "execution_count": null,
   "id": "592ff331",
   "metadata": {},
   "outputs": [],
   "source": [
    "import pandas as pd\n",
    "from sklearn.linear_model import LinearRegression\n",
    "import matplotlib.pyplot as plt\n",
    "import numpy as np\n",
    "\n",
    "df = pd.read_csv('your_exported_file.csv')\n",
    "\n",
    "# Drop rows with missing values (if any)\n",
    "df = df.dropna(subset=['NDVI', 'Albedo'])\n",
    "\n",
    "# desired mask\n",
    "df = df[df['NDVI'] > 0]\n",
    "\n",
    "\n",
    "X = df['NDVI'].values.reshape(-1, 1)  \n",
    "y = df['Albedo'].values              \n",
    "\n",
    "# Fit linear regression model\n",
    "model = LinearRegression()\n",
    "model.fit(X, y)\n",
    "\n",
    "# Get slope (m) and intercept (b)\n",
    "slope = model.coef_[0]\n",
    "intercept = model.intercept_\n",
    "print(f\"Best fit line: Albedo = {slope:.4f} * NDVI + {intercept:.4f}\")\n",
    "\n",
    "# Plot the scatter and the best fit line\n",
    "plt.figure(figsize=(10, 6))\n",
    "plt.scatter(X, y, s=1, alpha=0.2, label='Data', color='skyblue')\n",
    "plt.plot(X, model.predict(X), color='red', linewidth=2, label='Best Fit Line')\n",
    "plt.xlabel('NDVI')\n",
    "plt.ylabel('Albedo')\n",
    "plt.title('Linear Regression: Albedo vs NDVI (NDVI > 0)')\n",
    "plt.legend()\n",
    "plt.grid(True)\n",
    "plt.show()\n"
   ]
  }
 ],
 "metadata": {
  "language_info": {
   "name": "python"
  }
 },
 "nbformat": 4,
 "nbformat_minor": 5
}

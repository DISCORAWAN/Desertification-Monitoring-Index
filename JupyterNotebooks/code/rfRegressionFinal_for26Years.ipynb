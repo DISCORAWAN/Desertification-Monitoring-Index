{
 "cells": [
  {
   "cell_type": "code",
   "execution_count": null,
   "id": "155974fa",
   "metadata": {
    "vscode": {
     "languageId": "plaintext"
    }
   },
   "outputs": [],
   "source": [
    "import numpy as np\n",
    "import pandas as pd\n",
    "from sklearn.ensemble import RandomForestRegressor\n",
    "from sklearn.svm import SVR\n",
    "from sklearn.model_selection import train_test_split, cross_val_score\n",
    "from sklearn.metrics import mean_squared_error, mean_absolute_error, r2_score, explained_variance_score, mean_squared_log_error\n",
    "import joblib\n",
    "from osgeo import gdal, osr\n",
    "import time\n",
    "# import rasterio"
   ]
  },
  {
   "cell_type": "code",
   "execution_count": null,
   "id": "df09ae6e",
   "metadata": {
    "vscode": {
     "languageId": "plaintext"
    }
   },
   "outputs": [],
   "source": [
    "# Load TIFF images and extract data\n",
    "# def load_tiff_data(file_path):\n",
    "#     load_time=time.time()\n",
    "#     src_ds = gdal.Open(file_path)\n",
    "#     data = src_ds.ReadAsArray()\n",
    "#     metadata = src_ds.GetGeoTransform(), src_ds.GetProjection()\n",
    "#     src_ds = None  # Close dataset\n",
    "#     end_load_time=time.time()\n",
    "#     loading_time=end_load_time-load_time\n",
    "#     print('loading_time:', loading_time)\n",
    "#     print('the dimension of input:',data.shape)\n",
    "#     return data, metadata\n",
    "\n",
    "\n",
    "\n",
    "# Function to load data from .tif files\n",
    "def load_tiff_data(file_path):\n",
    "    with rasterio.open(file_path) as src:\n",
    "        data = src.read()  # Read the first band\n",
    "    return data\n",
    "temperature = load_tiff_data(r\"E:aligned_to_dmi_temp_2025_2050_250m.tif\") # path1\n",
    "rainfall = load_tiff_data(r\"E:\\aligned_to_dmi_rain_2025_2050_250m.tif\") # path2\n",
    "# pet = load_tiff_data('G:/Trend_Analysis_Data_Yearly/Barmer_Zone/AET_3_IA.tif')\n",
    "# soil_moisture= load_tiff_data('G:/Trend_Analysis_Data_Yearly/Barmer_Zone/SoilMoisture_3_IA.tif')\n",
    "# ndvi = load_tiff_data('G:/Trend_Analysis_Data_Yearly/Barmer_Zone/NDVI_3_IA.tif')"
   ]
  },
  {
   "cell_type": "code",
   "execution_count": null,
   "id": "cc2f2ff6",
   "metadata": {
    "vscode": {
     "languageId": "plaintext"
    }
   },
   "outputs": [],
   "source": [
    "print('dimension of temperature',temperature.shape)"
   ]
  },
  {
   "cell_type": "code",
   "execution_count": null,
   "id": "ca0e77f8",
   "metadata": {
    "vscode": {
     "languageId": "plaintext"
    }
   },
   "outputs": [],
   "source": [
    "loaded_model = joblib.load('random_forest_model_agr_ddi_100trees_5depth.pkl')"
   ]
  },
  {
   "cell_type": "code",
   "execution_count": null,
   "id": "a0326ced",
   "metadata": {
    "vscode": {
     "languageId": "plaintext"
    }
   },
   "outputs": [],
   "source": [
    "# temperature = load_tiff_data('G:/Trend_Analysis_Data_Yearly/Barmer_Zone/LST_3_IA.tif')\n",
    "# rainfall = load_tiff_data('G:/Trend_Analysis_Data_Yearly/Barmer_Zone/Rainfall_3_IA.tif')\n",
    "# pet = load_tiff_data('G:/Trend_Analysis_Data_Yearly/Barmer_Zone/AET_3_IA.tif')\n",
    "# soil_moisture= load_tiff_data('G:/Trend_Analysis_Data_Yearly/Barmer_Zone/SoilMoisture_3_IA.tif')\n",
    "# ndvi = load_tiff_data('G:/Trend_Analysis_Data_Yearly/Barmer_Zone/NDVI_3_IA.tif')\n",
    "\n",
    "# Prepare the data\n",
    "temperature_flat = temperature.flatten()\n",
    "rainfall_flat = rainfall.flatten()\n",
    "# pet_flat = pet.flatten()\n",
    "# soil_moisture_flat = soil_moisture.flatten()\n",
    "# ndvi_flat = ndvi.flatten()\n",
    "\n",
    "data = {\n",
    "    'temperature': temperature_flat,\n",
    "    'rainfall': rainfall_flat,\n",
    "    # 'pet': pet_flat,\n",
    "    # 'soil_moisture': soil_moisture_flat,\n",
    "    # 'ndvi': ndvi_flat\n",
    "}\n",
    "\n",
    "df = pd.DataFrame(data)\n",
    "# Convert reshaped image to DataFrame\n",
    "\n",
    "# Check for NaN values\n",
    "nan_columns = df.columns[df.isna().any()].tolist()\n",
    "print(\"Columns with NaN values:\", nan_columns)\n",
    "\n",
    "# Mask NaN values with mean\n",
    "df.fillna(df.mean(), inplace=True)\n",
    "\n",
    "# Convert DataFrame back to numpy array\n",
    "reshaped_image_handled = df.to_numpy()\n",
    "print(reshaped_image_handled.shape)\n",
    "X=reshaped_image_handled\n",
    "\n",
    "# Drop NaN values if any\n",
    "# df.dropna(inplace=True)\n",
    "\n",
    "# Features and target variable\n",
    "# X = df[['temperature', 'rainfall', 'pet', 'soil_moisture']]\n",
    "X = df[['temperature', 'rainfall']]\n",
    "X1=X.shape\n",
    "# y_test = df['ndvi']\n",
    "# print(data)\n",
    "\n",
    "start_of_prediction=time.time()\n",
    "y_pred = loaded_model.predict(X)\n",
    "end_of_prediction=time.time()\n",
    "prediction_diff=start_of_prediction-end_of_prediction\n",
    "print(prediction_diff/3600)\n",
    "# mse = mean_squared_error(y_test, y_pred)\n",
    "# rmse = np.sqrt(mse)\n",
    "# mae = mean_absolute_error(y_test, y_pred)\n",
    "# r2 = r2_score(y_test, y_pred)\n",
    "# explained_variance = explained_variance_score(y_test, y_pred)\n",
    "# Print the evaluation metrics for random forest on the test set\n",
    "# print(\"\\nEvaluation metrics for rf on the test set:\")\n",
    "# print(\"Mean squared error (MSE):\", mse)\n",
    "# print(\"Root mean squared error (RMSE):\", rmse)\n",
    "# print(\"Mean absolute error (MAE):\", mae)\n",
    "# print(\"R-squared (R2):\", r2)\n",
    "# print(\"Explained variance score:\", explained_variance)\n"
   ]
  },
  {
   "cell_type": "markdown",
   "id": "a281f629",
   "metadata": {},
   "source": [
    "## Prediction for 26 years (Debugged)"
   ]
  },
  {
   "cell_type": "code",
   "execution_count": null,
   "id": "0704a3f7",
   "metadata": {
    "vscode": {
     "languageId": "plaintext"
    }
   },
   "outputs": [],
   "source": [
    "from osgeo import gdal, osr\n",
    "# Open the input image using GDAL to get its metadata\n",
    "input_image_path = (r'E:\\aligned_to_dmi_temp_2025_2050_250m.tif')\n",
    "input_dataset = gdal.Open(input_image_path)\n",
    "metadata = input_dataset.GetMetadata()\n",
    "print(metadata)\n",
    "# Get the metadata from the input image\n",
    "geotransform = input_dataset.GetGeoTransform()\n",
    "print(geotransform)\n",
    "srs = osr.SpatialReference()\n",
    "srs.ImportFromEPSG(4326)\n",
    "projection= srs.ExportToWkt()\n",
    "print(projection)\n",
    "num_rows = input_dataset.RasterYSize\n",
    "num_cols = input_dataset.RasterXSize\n",
    "num_years=26\n",
    "# Close the input dataset\n",
    "input_dataset = None\n",
    "\n",
    "# Reshape predicted NDVI values to match dimensions of input image\n",
    "predicted_ndvi_reshaped = y_pred.reshape(num_years, num_rows, num_cols)\n",
    "\n",
    "# Create new .tiff files for each year\n",
    "for i in range(num_years):\n",
    "    # Create new .tiff file\n",
    "    output_path = f\"ndvi_predicted_year_{i+1}.tif\"\n",
    "    driver = gdal.GetDriverByName(\"GTiff\")\n",
    "    dataset = driver.Create(output_path, num_cols, num_rows, 1, gdal.GDT_Float32)\n",
    "\n",
    "    # Write predicted NDVI values to .tiff file\n",
    "    dataset.GetRasterBand(1).WriteArray(predicted_ndvi_reshaped[i])\n",
    "\n",
    "    # Set metadata (geotransform and projection) to match input image\n",
    "    dataset.SetGeoTransform(geotransform)\n",
    "    \n",
    "    dataset.SetProjection(projection)\n",
    "\n",
    "    # Close dataset\n",
    "    dataset = None\n",
    "\n",
    "    print(f\"Predicted NDVI for year {i+1} saved as {output_path}\")"
   ]
  },
  {
   "cell_type": "code",
   "execution_count": null,
   "id": "22502d27",
   "metadata": {
    "vscode": {
     "languageId": "plaintext"
    }
   },
   "outputs": [],
   "source": [
    "print(predicted_ndvi_reshaped.shape)"
   ]
  }
 ],
 "metadata": {
  "language_info": {
   "name": "python"
  }
 },
 "nbformat": 4,
 "nbformat_minor": 5
}

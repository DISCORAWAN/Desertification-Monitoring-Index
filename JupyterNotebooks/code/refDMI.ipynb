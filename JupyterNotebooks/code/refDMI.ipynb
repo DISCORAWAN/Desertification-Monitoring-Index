{
 "cells": [
  {
   "cell_type": "code",
   "execution_count": 1,
   "id": "0e80131f-49fa-406d-9a99-b00854c7ab3d",
   "metadata": {},
   "outputs": [],
   "source": [
    "from osgeo import gdal"
   ]
  },
  {
   "cell_type": "code",
   "execution_count": 3,
   "id": "b32574e3-5d70-4245-9955-111c278920fb",
   "metadata": {},
   "outputs": [],
   "source": [
    "reference_image = r'E:\\Vighjayesh\\NDVI_ALBEDO\\LinearRegressionModel\\AOI_CLPD\\2015-25\\2001-25\\DDI_2001_2024_250m.tif'  # DMI reference image\n",
    "\n",
    "input_files = {\n",
    "    'rain': r'E:\\Vighjayesh\\NDVI_ALBEDO\\LinearRegressionModel\\AOI_CLPD\\2015-25\\ClimaticParameters\\JuneOct\\250m\\rain_250m.tif',\n",
    "    'temperature': r'E:\\Vighjayesh\\NDVI_ALBEDO\\LinearRegressionModel\\AOI_CLPD\\2015-25\\ClimaticParameters\\JuneOct\\250m\\temp_250m.tif'\n",
    "}\n",
    "\n",
    "output_files = {\n",
    "    'rain': r'E:\\Vighjayesh\\NDVI_ALBEDO\\LinearRegressionModel\\AOI_CLPD\\2015-25\\ClimaticParameters\\JuneOct\\sampledByPython_DMI_ref\\rain_aligned_to_dmi.tif',\n",
    "    'temperature': r'E:\\Vighjayesh\\NDVI_ALBEDO\\LinearRegressionModel\\AOI_CLPD\\2015-25\\ClimaticParameters\\JuneOct\\sampledByPython_DMI_ref\\temp_aligned_to_dmi.tif'\n",
    "}"
   ]
  },
  {
   "cell_type": "code",
   "execution_count": 11,
   "id": "055caa58-d3c2-467c-96b0-b7e8ce5aeb47",
   "metadata": {},
   "outputs": [],
   "source": [
    "# Open reference image to extract its properties\n",
    "ref_ds = gdal.Open(reference_image)\n",
    "if ref_ds is None:\n",
    "    raise RuntimeError(\"Could not open reference image.\")\n",
    "\n",
    "ref_proj = ref_ds.GetProjection()\n",
    "ref_geotransform = ref_ds.GetGeoTransform()\n",
    "\n",
    "# Get bounds\n",
    "x_min = ref_geotransform[0]\n",
    "y_max = ref_geotransform[3]\n",
    "pixel_width = ref_geotransform[1]\n",
    "pixel_height = ref_geotransform[5]\n",
    "x_max = x_min + (ref_ds.RasterXSize * pixel_width)\n",
    "y_min = y_max + (ref_ds.RasterYSize * pixel_height)\n"
   ]
  },
  {
   "cell_type": "code",
   "execution_count": 13,
   "id": "90e8fff3-6512-4e16-a871-9e21ab51d122",
   "metadata": {},
   "outputs": [
    {
     "name": "stdout",
     "output_type": "stream",
     "text": [
      "Aligning rain to DMI...\n",
      "Rain aligned successfully:\n",
      "E:\\Vighjayesh\\NDVI_ALBEDO\\LinearRegressionModel\\AOI_CLPD\\2015-25\\ClimaticParameters\\JuneOct\\sampledByPython_DMI_ref\\rain_aligned_to_dmi.tif\n",
      "Aligning temperature to DMI...\n",
      "Temperature aligned successfully:\n",
      "E:\\Vighjayesh\\NDVI_ALBEDO\\LinearRegressionModel\\AOI_CLPD\\2015-25\\ClimaticParameters\\JuneOct\\sampledByPython_DMI_ref\\temp_aligned_to_dmi.tif\n"
     ]
    }
   ],
   "source": [
    "# Loop over each input and align to reference\n",
    "for key in input_files:\n",
    "    input_path = input_files[key]\n",
    "    output_path = output_files[key]\n",
    "\n",
    "    print(f\"Aligning {key} to DMI...\")\n",
    "\n",
    "    result = gdal.Warp(\n",
    "        destNameOrDestDS=output_path,\n",
    "        srcDSOrSrcDSTab=input_path,\n",
    "        format='GTiff',\n",
    "        outputBounds=(x_min, y_min, x_max, y_max),\n",
    "        xRes=abs(pixel_width),\n",
    "        yRes=abs(pixel_height),\n",
    "        dstSRS=ref_proj,\n",
    "        resampleAlg='near',\n",
    "        dstNodata=0\n",
    "    )\n",
    "\n",
    "    if result:\n",
    "        print(f\"{key.capitalize()} aligned successfully:\\n{output_path}\")\n",
    "    else:\n",
    "        print(f\"GDAL Warp failed for {key}\")"
   ]
  },
  {
   "cell_type": "code",
   "execution_count": 5,
   "id": "3932bc98-6df9-46ef-ba98-04846f97e6d7",
   "metadata": {},
   "outputs": [
    {
     "name": "stdout",
     "output_type": "stream",
     "text": [
      "Alignment complete. Files saved as:\n"
     ]
    }
   ],
   "source": [
    "  from osgeo import gdal\n",
    "\n",
    "# === Reference DDI ===\n",
    "ddi_path = r\"E:\\Vighjayesh\\NDVI_ALBEDO\\LinearRegressionModel\\AOI_CLPD\\2015-25\\2001-25\\DDI_2001_2024_250m.tif\"\n",
    "ref_ds = gdal.Open(ddi_path)\n",
    "geo_transform = ref_ds.GetGeoTransform()\n",
    "proj = ref_ds.GetProjection()\n",
    "x_min = geo_transform[0]\n",
    "y_max = geo_transform[3]\n",
    "pixel_width = geo_transform[1]\n",
    "pixel_height = geo_transform[5]\n",
    "x_res = ref_ds.RasterXSize\n",
    "y_res = ref_ds.RasterYSize\n",
    "x_max = x_min + (x_res * pixel_width)\n",
    "y_min = y_max + (y_res * pixel_height)\n",
    "\n",
    "# Input rasters \n",
    "# rain_input = r\"E:\\Vighjayesh\\2025 to 2050\\CLimaticParameters\\OG\\Rainfall_IITM_ESM_2025_2050_JunOct.tif\"\n",
    "# temp_input = r\"E:\\Vighjayesh\\2025 to 2050\\CLimaticParameters\\OG\\Temperature_IITM_ESM_2025_2050_JunOct.tif\"\n",
    "wind_input = r\"E:\\Vighjayesh\\NDVI_ALBEDO\\LinearRegressionModel\\AOI_CLPD\\2015-25\\ClimaticParameters\\JuneOct\\wind_2001_2024_JunOct_OG.tif\"\n",
    "\n",
    "# Output paths \n",
    "# rain_output = r\"E:\\Vighjayesh\\2025 to 2050\\CLimaticParameters\\Aligned to DMI from Python\\aligned_to_dmi_rain_2025_2050_250m.tif\"\n",
    "# temp_output = r\"E:\\Vighjayesh\\2025 to 2050\\CLimaticParameters\\Aligned to DMI from Python\\aligned_to_dmi_temp_2025_2050_250m.tif\"\n",
    "wind_output = r\"E:\\Vighjayesh\\2025 to 2050\\CLimaticParameters\\Aligned to DMI from Python\\aligned_to_dmi_wind_2025_2050_250m.tif\"\n",
    "\n",
    "# Common warp options\n",
    "warp_options = {\n",
    "    \"format\": \"GTiff\",\n",
    "    \"dstSRS\": proj,\n",
    "    \"outputBounds\": (x_min, y_min, x_max, y_max),\n",
    "    \"xRes\": pixel_width,\n",
    "    \"yRes\": abs(pixel_height),\n",
    "    \"resampleAlg\": \"near\",\n",
    "    \"dstNodata\": -9999,\n",
    "    \"targetAlignedPixels\": True\n",
    "}\n",
    "\n",
    "\n",
    "# gdal.Warp(destNameOrDestDS=rain_output, srcDSOrSrcDSTab=rain_input, **warp_options)\n",
    "\n",
    "# gdal.Warp(destNameOrDestDS=temp_output, srcDSOrSrcDSTab=temp_input, **warp_options)\n",
    "\n",
    "gdal.Warp(destNameOrDestDS=wind_output, srcDSOrSrcDSTab=wind_input, **warp_options)\n",
    "\n",
    "print(\"Alignment complete. Files saved as:\")\n",
    "# print(\"Rainfall:\", rain_output)\n",
    "# print(\"Temperature:\", temp_output)\n"
   ]
  },
  {
   "cell_type": "code",
   "execution_count": null,
   "id": "ec093eac-444d-4654-90d4-bdddaa57c808",
   "metadata": {},
   "outputs": [],
   "source": []
  }
 ],
 "metadata": {
  "kernelspec": {
   "display_name": "Python [conda env:base] *",
   "language": "python",
   "name": "conda-base-py"
  },
  "language_info": {
   "codemirror_mode": {
    "name": "ipython",
    "version": 3
   },
   "file_extension": ".py",
   "mimetype": "text/x-python",
   "name": "python",
   "nbconvert_exporter": "python",
   "pygments_lexer": "ipython3",
   "version": "3.12.3"
  }
 },
 "nbformat": 4,
 "nbformat_minor": 5
}
